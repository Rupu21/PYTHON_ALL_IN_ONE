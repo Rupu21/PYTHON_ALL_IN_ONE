{
 "cells": [
  {
   "cell_type": "markdown",
   "metadata": {},
   "source": [
    "### Markdown \n",
    "\n",
    "# Heading\n",
    "\n",
    "\n",
    "* one\n",
    "    * item - 1\n",
    "    * item - 2\n",
    "* two \n",
    "    * item -2 \n",
    "    * item - 3\n",
    "    \n",
    "##### new items\n",
    "\n",
    "1.  item 1\n",
    "2.  item 2\n",
    "\n",
    "Result is below:"
   ]
  },
  {
   "cell_type": "markdown",
   "metadata": {},
   "source": [
    "### Markdown \n",
    "\n",
    "# Heading\n",
    "\n",
    "\n",
    "* one\n",
    "    * item - 1\n",
    "    * item - 2\n",
    "* two \n",
    "    * item -2 \n",
    "    * item - 3\n",
    "    \n",
    "##### new items\n",
    "\n",
    "1.  item 1\n",
    "2.  item 2"
   ]
  },
  {
   "cell_type": "markdown",
   "metadata": {},
   "source": [
    "# Shortcuts of Jupyter "
   ]
  },
  {
   "cell_type": "markdown",
   "metadata": {},
   "source": [
    "\n",
    "\n",
    "    shift + Enter --> To Run A Selected Shell and also open a blank new shell below\n",
    "    \n",
    "    ctrl + Enter --> To Run A Selected Shell\n",
    "    \n",
    "    ctrl + s --> to save current progreess of your notebook\n",
    "    \n",
    "    First Press ESC key to Apply Shortcuts (Command Mode)\n",
    "    \n",
    "    Enter --> used to switch from command mode to insert mode to write text\n",
    "    \n",
    "    ESC  --> used to switch from insert mode to command mode to execute commands\n",
    "    \n",
    "    up arrow to select abobe shell\n",
    "    down arrow key to select below\n",
    "    \n",
    "    a --> insert a shell above current \n",
    "    \n",
    "    b --> insert a shell below\n",
    "    \n",
    "    x --> to cut a shell\n",
    "    \n",
    "    v --> to paste a shell\n",
    "    \n",
    "    c --> to copy\n",
    "    \n",
    "    dd --> to delete selected shell\n",
    "    \n",
    "    z --> to undo last change\n",
    "    \n",
    "    ii --> to interrupt a process\n",
    "    \n",
    "    00 --> to restart a notebook\n",
    "    \n",
    "    m --> to change current shell into markdown shell\n",
    "    \n",
    "    y --> to change current shell into code shell\n",
    "    \n",
    "    r --> to change current shell into raw shell\n",
    "    "
   ]
  },
  {
   "cell_type": "code",
   "execution_count": 1,
   "metadata": {},
   "outputs": [
    {
     "name": "stdout",
     "output_type": "stream",
     "text": [
      "Shift+Enter/Alt+Enter runs particular shell and also open a blank shell below current shell\n",
      "Ctrl+Enter will run shell but not open any other shell\n"
     ]
    }
   ],
   "source": [
    "print(\"Shift+Enter/Alt+Enter runs particular shell and also open a blank shell below current shell\")\n",
    "print(\"Ctrl+Enter will run shell but not open any other shell\")\n"
   ]
  },
  {
   "cell_type": "markdown",
   "metadata": {},
   "source": [
    "Esc \n",
    "\n",
    "    y --> code shell\n",
    "\n",
    "    m --> markdown shell\n",
    "\n",
    "    r --> raw shell"
   ]
  },
  {
   "cell_type": "markdown",
   "metadata": {},
   "source": [
    "esc + m --> markdown shell"
   ]
  },
  {
   "cell_type": "markdown",
   "metadata": {},
   "source": [
    "<h1 style='color:blue'> ~Rupam </h1>\n",
    "\n",
    "Result is below:"
   ]
  },
  {
   "cell_type": "markdown",
   "metadata": {},
   "source": [
    "<h1 style='color:blue'> ~Rupam </h1>"
   ]
  },
  {
   "cell_type": "markdown",
   "metadata": {},
   "source": [
    "<h1 style='color:red'>THANK YOU </h1>"
   ]
  }
 ],
 "metadata": {
  "kernelspec": {
   "display_name": "Python 3",
   "language": "python",
   "name": "python3"
  },
  "language_info": {
   "codemirror_mode": {
    "name": "ipython",
    "version": 3
   },
   "file_extension": ".py",
   "mimetype": "text/x-python",
   "name": "python",
   "nbconvert_exporter": "python",
   "pygments_lexer": "ipython3",
   "version": "3.7.6"
  }
 },
 "nbformat": 4,
 "nbformat_minor": 2
}
