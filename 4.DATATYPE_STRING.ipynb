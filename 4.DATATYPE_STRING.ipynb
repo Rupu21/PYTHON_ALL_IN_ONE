{
 "cells": [
  {
   "cell_type": "markdown",
   "metadata": {},
   "source": [
    "# STRING"
   ]
  },
  {
   "cell_type": "code",
   "execution_count": 1,
   "metadata": {
    "scrolled": true
   },
   "outputs": [
    {
     "name": "stdout",
     "output_type": "stream",
     "text": [
      "Rupam\n",
      "Rupam <class 'str'>\n"
     ]
    }
   ],
   "source": [
    "#input() is used to take user input\n",
    "name=input()\n",
    "print(name,type(name))"
   ]
  },
  {
   "cell_type": "code",
   "execution_count": 2,
   "metadata": {},
   "outputs": [
    {
     "name": "stdout",
     "output_type": "stream",
     "text": [
      "abc abc abc\n",
      "2565122331312 2565122331312 2565122331312\n"
     ]
    }
   ],
   "source": [
    "s='abc'\n",
    "s1=\"abc\"\n",
    "s2=\"\"\"abc\"\"\"\n",
    "print(s,s1,s2)\n",
    "print(id(s),id(s1),id(s2))\n",
    "\n",
    "#s,s1,s2 these three are same string type object"
   ]
  },
  {
   "cell_type": "markdown",
   "metadata": {},
   "source": [
    "# Strings are Ordered Immutable Sequential Data Type"
   ]
  },
  {
   "cell_type": "markdown",
   "metadata": {},
   "source": [
    "#### 1.Ordered:"
   ]
  },
  {
   "cell_type": "code",
   "execution_count": 3,
   "metadata": {},
   "outputs": [
    {
     "name": "stdout",
     "output_type": "stream",
     "text": [
      "l\n",
      "llo\n"
     ]
    }
   ],
   "source": [
    "\"\"\"\n",
    "We can get the character from string using index that happens because string is ordered data type\n",
    "\n",
    "\"\"\"\n",
    "\n",
    "s=\"Hello\"\n",
    "print(s[2])\n",
    "print(s[2:])"
   ]
  },
  {
   "cell_type": "markdown",
   "metadata": {},
   "source": [
    "#### 2.Immutable"
   ]
  },
  {
   "cell_type": "code",
   "execution_count": null,
   "metadata": {},
   "outputs": [],
   "source": []
  },
  {
   "cell_type": "markdown",
   "metadata": {},
   "source": [
    "**Immutable** \n",
    "\n",
    "        which does not change, or we can not modify them(in the same memory location)\n",
    "        \n",
    "**mutable**\n",
    "\n",
    "        we can add remove delete update elements to them(in the same memory location)"
   ]
  },
  {
   "cell_type": "code",
   "execution_count": 4,
   "metadata": {},
   "outputs": [
    {
     "ename": "TypeError",
     "evalue": "'str' object does not support item assignment",
     "output_type": "error",
     "traceback": [
      "\u001b[1;31m---------------------------------------------------------------------------\u001b[0m",
      "\u001b[1;31mTypeError\u001b[0m                                 Traceback (most recent call last)",
      "\u001b[1;32m<ipython-input-4-a1511f877040>\u001b[0m in \u001b[0;36m<module>\u001b[1;34m\u001b[0m\n\u001b[0;32m      5\u001b[0m \u001b[1;33m\u001b[0m\u001b[0m\n\u001b[0;32m      6\u001b[0m \u001b[0ms\u001b[0m\u001b[1;33m=\u001b[0m\u001b[1;34m\"Hello\"\u001b[0m\u001b[1;33m\u001b[0m\u001b[1;33m\u001b[0m\u001b[0m\n\u001b[1;32m----> 7\u001b[1;33m \u001b[0ms\u001b[0m\u001b[1;33m[\u001b[0m\u001b[1;36m2\u001b[0m\u001b[1;33m]\u001b[0m\u001b[1;33m=\u001b[0m\u001b[1;34m'd'\u001b[0m\u001b[1;33m\u001b[0m\u001b[1;33m\u001b[0m\u001b[0m\n\u001b[0m",
      "\u001b[1;31mTypeError\u001b[0m: 'str' object does not support item assignment"
     ]
    }
   ],
   "source": [
    "\"\"\"\n",
    "We can not change anything in the same string object\n",
    "\n",
    "\"\"\"\n",
    "\n",
    "s=\"Hello\"\n",
    "s[2]='d'"
   ]
  },
  {
   "cell_type": "raw",
   "metadata": {},
   "source": [
    "Then the question is how we can change something in string object in python"
   ]
  },
  {
   "cell_type": "code",
   "execution_count": 5,
   "metadata": {},
   "outputs": [
    {
     "name": "stdout",
     "output_type": "stream",
     "text": [
      "2565189635568\n",
      "2565189634736\n"
     ]
    }
   ],
   "source": [
    "\"\"\"\n",
    "    Whenever we assign some new string ,we actually are allocating new memory location for our values\n",
    "\n",
    "\"\"\"\n",
    "s=\"Hello\"\n",
    "print(id(s))\n",
    "s=\"Hell\"\n",
    "print(id(s))"
   ]
  },
  {
   "cell_type": "code",
   "execution_count": 6,
   "metadata": {},
   "outputs": [
    {
     "name": "stdout",
     "output_type": "stream",
     "text": [
      "2565189466736\n",
      "2565189634736\n"
     ]
    }
   ],
   "source": [
    "\"\"\"\n",
    "    In case of replace() we can think that it is actually changing the string value but actually it's not.\n",
    "    It returns new string placed in new memory location\n",
    "    \n",
    "\"\"\"\n",
    "\n",
    "s=\"Hello\"\n",
    "print(id(s))\n",
    "print(id(s.replace('e','p')))"
   ]
  },
  {
   "cell_type": "code",
   "execution_count": 7,
   "metadata": {},
   "outputs": [
    {
     "name": "stdout",
     "output_type": "stream",
     "text": [
      "Help on built-in function replace:\n",
      "\n",
      "replace(old, new, count=-1, /) method of builtins.str instance\n",
      "    Return a copy with all occurrences of substring old replaced by new.\n",
      "    \n",
      "      count\n",
      "        Maximum number of occurrences to replace.\n",
      "        -1 (the default value) means replace all occurrences.\n",
      "    \n",
      "    If the optional argument count is given, only the first count occurrences are\n",
      "    replaced.\n",
      "\n"
     ]
    }
   ],
   "source": [
    "help(s.replace)"
   ]
  },
  {
   "cell_type": "markdown",
   "metadata": {},
   "source": [
    "### 3. Sequential"
   ]
  },
  {
   "cell_type": "code",
   "execution_count": 8,
   "metadata": {},
   "outputs": [
    {
     "name": "stdout",
     "output_type": "stream",
     "text": [
      "Rupam bose\n",
      "esob mapuR\n",
      "R,u,p,a,m, ,b,o,s,e\n"
     ]
    }
   ],
   "source": [
    "\"\"\"\n",
    "We can access string elements(characters) sequentially if we dont give any condition explicitly\n",
    "\n",
    "\"\"\"\n",
    "\n",
    "s=\"Rupam bose\"\n",
    "print(s[:])\n",
    "print(s[::-1])\n",
    "\n",
    "#If we write *s it will print every character present in that string\n",
    "print(*s,sep=\",\")"
   ]
  },
  {
   "cell_type": "code",
   "execution_count": null,
   "metadata": {},
   "outputs": [],
   "source": []
  },
  {
   "cell_type": "code",
   "execution_count": 9,
   "metadata": {},
   "outputs": [
    {
     "ename": "SyntaxError",
     "evalue": "invalid syntax (<ipython-input-9-0125640719ce>, line 6)",
     "output_type": "error",
     "traceback": [
      "\u001b[1;36m  File \u001b[1;32m\"<ipython-input-9-0125640719ce>\"\u001b[1;36m, line \u001b[1;32m6\u001b[0m\n\u001b[1;33m    s  = \"He said, \"Do not go\"\"\u001b[0m\n\u001b[1;37m                     ^\u001b[0m\n\u001b[1;31mSyntaxError\u001b[0m\u001b[1;31m:\u001b[0m invalid syntax\n"
     ]
    }
   ],
   "source": [
    "\"\"\" \n",
    "Here the problem is interpreter thinks s=\"He said, \" this is the string and after that Do is a variable name \n",
    "and after that not is keyword. So it is giving invalid syntax error.\n",
    "\n",
    "\"\"\"\n",
    "s  = \"He said, \"Do not go\"\"\n",
    "print(s)"
   ]
  },
  {
   "cell_type": "code",
   "execution_count": 10,
   "metadata": {},
   "outputs": [
    {
     "name": "stdout",
     "output_type": "stream",
     "text": [
      "He said, \"Do not go\"\n"
     ]
    }
   ],
   "source": [
    "s  = 'He said, \"Do not go\"'\n",
    "print(s) "
   ]
  },
  {
   "cell_type": "markdown",
   "metadata": {},
   "source": [
    "     \\ --> escape character / special character\n",
    "     \n",
    "     \\n --> new line\n",
    "     \\t --> tab (4 white or 8 white editor and language)"
   ]
  },
  {
   "cell_type": "code",
   "execution_count": 11,
   "metadata": {},
   "outputs": [
    {
     "name": "stdout",
     "output_type": "stream",
     "text": [
      "Hello\n",
      "\n",
      "\t\t\tWorld\n"
     ]
    }
   ],
   "source": [
    "print(\"Hello\\n\\n\\t\\t\\tWorld\")"
   ]
  },
  {
   "cell_type": "code",
   "execution_count": 12,
   "metadata": {},
   "outputs": [
    {
     "ename": "SyntaxError",
     "evalue": "EOL while scanning string literal (<ipython-input-12-d861463a54b6>, line 6)",
     "output_type": "error",
     "traceback": [
      "\u001b[1;36m  File \u001b[1;32m\"<ipython-input-12-d861463a54b6>\"\u001b[1;36m, line \u001b[1;32m6\u001b[0m\n\u001b[1;33m    print(\"\\\")\u001b[0m\n\u001b[1;37m              ^\u001b[0m\n\u001b[1;31mSyntaxError\u001b[0m\u001b[1;31m:\u001b[0m EOL while scanning string literal\n"
     ]
    }
   ],
   "source": [
    "\"\"\"\n",
    "Here the problem is \\ is escape sequence.It means \" is gonna printed but closing \" is not found ,\n",
    "so It is giving error \n",
    "as EOL at the time of string scanning\n",
    "\"\"\"\n",
    "print(\"\\\")"
   ]
  },
  {
   "cell_type": "code",
   "execution_count": 13,
   "metadata": {},
   "outputs": [
    {
     "name": "stdout",
     "output_type": "stream",
     "text": [
      "\"\n"
     ]
    }
   ],
   "source": [
    "print(\"\\\"\")"
   ]
  },
  {
   "cell_type": "code",
   "execution_count": 14,
   "metadata": {},
   "outputs": [
    {
     "name": "stdout",
     "output_type": "stream",
     "text": [
      "that's it\n"
     ]
    }
   ],
   "source": [
    "print('that\\'s it')"
   ]
  },
  {
   "cell_type": "code",
   "execution_count": 15,
   "metadata": {},
   "outputs": [],
   "source": [
    "s = \"Hello \\n\\tWorld\""
   ]
  },
  {
   "cell_type": "markdown",
   "metadata": {},
   "source": [
    "    repr --> raw representation of string  (non-printable)\n",
    "    str ---> string representation (printable)"
   ]
  },
  {
   "cell_type": "code",
   "execution_count": 16,
   "metadata": {},
   "outputs": [
    {
     "name": "stdout",
     "output_type": "stream",
     "text": [
      "'Hello \\n\\tWorld'\n",
      "****************************************************************************************************\n",
      "Hello \n",
      "\tWorld\n"
     ]
    }
   ],
   "source": [
    "print(repr(s))\n",
    "print(\"*\"*100)\n",
    "print(str(s))"
   ]
  },
  {
   "cell_type": "raw",
   "metadata": {},
   "source": [
    "   \"H\"  \"e\"   \"l\"  \"l\"  \"o\"  \" \"  \"W\"  \"o\"  \"r\"  \"l\"  \"d\"\n",
    "   \n",
    "    0    1     2    3     4   5    6    7     8    9   10\n",
    "    \n",
    "    index --> 0"
   ]
  },
  {
   "cell_type": "code",
   "execution_count": 17,
   "metadata": {},
   "outputs": [
    {
     "name": "stdout",
     "output_type": "stream",
     "text": [
      "         0 'H'\n",
      "         1 'e'\n",
      "         2 'l'\n",
      "         3 'l'\n",
      "         4 'o'\n",
      "         5 ' '\n",
      "         6 '\\n'\n",
      "         7 '\\t'\n",
      "         8 'W'\n",
      "         9 'o'\n",
      "        10 'r'\n",
      "        11 'l'\n",
      "        12 'd'\n"
     ]
    }
   ],
   "source": [
    "for i,c in enumerate(s):\n",
    "    print(f\"{i:>10}\", repr(c))"
   ]
  },
  {
   "cell_type": "markdown",
   "metadata": {},
   "source": [
    "    stdout   -->  /dev/stdout\n",
    "    stdin    --> /dev/stdin\n",
    "    stderror --> /dev/stderr"
   ]
  },
  {
   "cell_type": "code",
   "execution_count": 18,
   "metadata": {},
   "outputs": [
    {
     "name": "stdout",
     "output_type": "stream",
     "text": [
      "Hello World"
     ]
    }
   ],
   "source": [
    "import sys\n",
    "sys.stdout.write('Hello World')"
   ]
  },
  {
   "cell_type": "code",
   "execution_count": null,
   "metadata": {},
   "outputs": [],
   "source": []
  },
  {
   "cell_type": "code",
   "execution_count": null,
   "metadata": {},
   "outputs": [],
   "source": []
  },
  {
   "cell_type": "markdown",
   "metadata": {},
   "source": [
    "**dunder methods or magic methods**\n",
    "    \n",
    "    double under score methods\n",
    "\n",
    "    __magic_method__"
   ]
  },
  {
   "cell_type": "code",
   "execution_count": 19,
   "metadata": {},
   "outputs": [
    {
     "name": "stdout",
     "output_type": "stream",
     "text": [
      "Hello World\n",
      "Hello World"
     ]
    }
   ],
   "source": [
    "s = \"Hello World\"\n",
    "print(s)\n",
    "sys.stdout.write(str.__str__(s))"
   ]
  },
  {
   "cell_type": "code",
   "execution_count": 20,
   "metadata": {},
   "outputs": [
    {
     "name": "stdout",
     "output_type": "stream",
     "text": [
      "Hello World\n",
      "Hello World\n"
     ]
    }
   ],
   "source": [
    "s = \"Hello \"  + \"World\" # concatenation\n",
    "print(s)\n",
    "print(str.__add__(\"Hello \", \"World\"))"
   ]
  },
  {
   "cell_type": "code",
   "execution_count": 21,
   "metadata": {},
   "outputs": [
    {
     "name": "stdout",
     "output_type": "stream",
     "text": [
      "['__add__', '__class__', '__contains__', '__delattr__', '__dir__', '__doc__', '__eq__', '__format__', '__ge__', '__getattribute__', '__getitem__', '__getnewargs__', '__gt__', '__hash__', '__init__', '__init_subclass__', '__iter__', '__le__', '__len__', '__lt__', '__mod__', '__mul__', '__ne__', '__new__', '__reduce__', '__reduce_ex__', '__repr__', '__rmod__', '__rmul__', '__setattr__', '__sizeof__', '__str__', '__subclasshook__', 'capitalize', 'casefold', 'center', 'count', 'encode', 'endswith', 'expandtabs', 'find', 'format', 'format_map', 'index', 'isalnum', 'isalpha', 'isascii', 'isdecimal', 'isdigit', 'isidentifier', 'islower', 'isnumeric', 'isprintable', 'isspace', 'istitle', 'isupper', 'join', 'ljust', 'lower', 'lstrip', 'maketrans', 'partition', 'replace', 'rfind', 'rindex', 'rjust', 'rpartition', 'rsplit', 'rstrip', 'split', 'splitlines', 'startswith', 'strip', 'swapcase', 'title', 'translate', 'upper', 'zfill']\n"
     ]
    }
   ],
   "source": [
    "print(dir(str))"
   ]
  },
  {
   "cell_type": "code",
   "execution_count": 22,
   "metadata": {},
   "outputs": [],
   "source": [
    "s = \"HellO WoRlD!\""
   ]
  },
  {
   "cell_type": "code",
   "execution_count": 23,
   "metadata": {},
   "outputs": [
    {
     "name": "stdout",
     "output_type": "stream",
     "text": [
      "HellO WoRlD!\n",
      "hELLo wOrLd!\n"
     ]
    }
   ],
   "source": [
    "new_str = s.swapcase()\n",
    "print(s) # immutable\n",
    "print(new_str)"
   ]
  },
  {
   "cell_type": "code",
   "execution_count": 24,
   "metadata": {},
   "outputs": [
    {
     "name": "stdout",
     "output_type": "stream",
     "text": [
      "Original:  HellO WoRlD!\n",
      "Lower case:  hello world!\n",
      "Upper case:  HELLO WORLD!\n",
      "Swap case:  hELLo wOrLd!\n",
      "title case:  Hello World!\n",
      "capitalize case:  Hello world!\n"
     ]
    }
   ],
   "source": [
    "print(\"Original: \",s)\n",
    "print(\"Lower case: \",s.lower())\n",
    "print(\"Upper case: \",s.upper())\n",
    "print(\"Swap case: \",s.swapcase())\n",
    "print(\"title case: \",s.title())\n",
    "print(\"capitalize case: \", s.capitalize())"
   ]
  },
  {
   "cell_type": "code",
   "execution_count": 25,
   "metadata": {},
   "outputs": [
    {
     "name": "stdout",
     "output_type": "stream",
     "text": [
      "Help on built-in function strip:\n",
      "\n",
      "strip(chars=None, /) method of builtins.str instance\n",
      "    Return a copy of the string with leading and trailing whitespace removed.\n",
      "    \n",
      "    If chars is given and not None, remove characters in chars instead.\n",
      "\n"
     ]
    }
   ],
   "source": [
    "help(s.strip)"
   ]
  },
  {
   "cell_type": "code",
   "execution_count": 26,
   "metadata": {},
   "outputs": [
    {
     "name": "stdout",
     "output_type": "stream",
     "text": [
      "'     \\n\\tHello World!\\n\\n\\t\\t    '      \n",
      "\tHello World!\n",
      "\n",
      "\t\t    \n",
      "'Hello World!'      \n",
      "\tHello World!\n",
      "\n",
      "\t\t    \n"
     ]
    }
   ],
   "source": [
    "s = \"     \\n\\tHello World!\\n\\n\\t\\t    \"\n",
    "process_str = s.strip()\n",
    "print(repr(s),s)\n",
    "print(repr(process_str),s)"
   ]
  },
  {
   "cell_type": "code",
   "execution_count": 27,
   "metadata": {},
   "outputs": [
    {
     "name": "stdout",
     "output_type": "stream",
     "text": [
      "'    \\n   \\t    hello world   \\n  \\t  '\n",
      "'hello world'\n",
      "    \n",
      "   \t    hello world   \n",
      "  \t  \n",
      "hello world\n"
     ]
    }
   ],
   "source": [
    "s = \"    \\n   \\t    hello world   \\n  \\t  \"\n",
    "print(repr(s))\n",
    "s1 = s.strip() # by default \" \", \"\\n\\t\"\n",
    "print(repr(s1))\n",
    "\n",
    "print(s)\n",
    "print(s1)"
   ]
  },
  {
   "cell_type": "code",
   "execution_count": 28,
   "metadata": {},
   "outputs": [
    {
     "name": "stdout",
     "output_type": "stream",
     "text": [
      "----------$$$$$Rupam Bose$$$$$--------------\n",
      "----------$$$$$Rupam Bose$$$$$--------------\n",
      "$$$$$Rupam Bose$$$$$\n",
      "Rupam Bose\n"
     ]
    }
   ],
   "source": [
    "s = \"----------$$$$$Rupam Bose$$$$$--------------\"\n",
    "print(s)\n",
    "s1 = s.strip('$')\n",
    "print(s1)\n",
    "s1 = s.strip('-')\n",
    "print(s1)\n",
    "s1 = s.strip('-$')\n",
    "print(s1)"
   ]
  },
  {
   "cell_type": "code",
   "execution_count": null,
   "metadata": {},
   "outputs": [],
   "source": []
  },
  {
   "cell_type": "code",
   "execution_count": null,
   "metadata": {},
   "outputs": [],
   "source": []
  },
  {
   "cell_type": "code",
   "execution_count": null,
   "metadata": {},
   "outputs": [],
   "source": []
  },
  {
   "cell_type": "code",
   "execution_count": null,
   "metadata": {},
   "outputs": [],
   "source": []
  }
 ],
 "metadata": {
  "kernelspec": {
   "display_name": "Python 3",
   "language": "python",
   "name": "python3"
  },
  "language_info": {
   "codemirror_mode": {
    "name": "ipython",
    "version": 3
   },
   "file_extension": ".py",
   "mimetype": "text/x-python",
   "name": "python",
   "nbconvert_exporter": "python",
   "pygments_lexer": "ipython3",
   "version": "3.7.6"
  }
 },
 "nbformat": 4,
 "nbformat_minor": 4
}
